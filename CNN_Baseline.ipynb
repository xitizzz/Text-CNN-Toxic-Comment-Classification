{
 "cells": [
  {
   "cell_type": "code",
   "execution_count": null,
   "metadata": {},
   "outputs": [],
   "source": [
    "import numpy as np\n",
    "import pandas as pd"
   ]
  },
  {
   "cell_type": "code",
   "execution_count": null,
   "metadata": {},
   "outputs": [],
   "source": [
    "import gzip\n",
    "import os\n",
    "import gc"
   ]
  },
  {
   "cell_type": "code",
   "execution_count": null,
   "metadata": {},
   "outputs": [],
   "source": [
    "from keras.models import Sequential, load_model\n",
    "from keras.layers import Conv1D, GlobalMaxPool1D, Dense, Dropout, Activation, Embedding\n",
    "from keras.preprocessing.sequence import pad_sequences\n",
    "from keras.preprocessing.text import Tokenizer\n",
    "from keras.optimizers import Adam\n",
    "from keras.callbacks import EarlyStopping, ModelCheckpoint"
   ]
  },
  {
   "cell_type": "code",
   "execution_count": null,
   "metadata": {},
   "outputs": [],
   "source": [
    "from nltk.tokenize import word_tokenize\n",
    "from nltk.corpus import stopwords\n",
    "from sklearn.model_selection import train_test_split"
   ]
  },
  {
   "cell_type": "code",
   "execution_count": null,
   "metadata": {},
   "outputs": [],
   "source": [
    "from gensim.models import Word2Vec, KeyedVectors"
   ]
  },
  {
   "cell_type": "code",
   "execution_count": null,
   "metadata": {},
   "outputs": [],
   "source": [
    "hyperparam = {'sequence_len': 100,\n",
    "              'embedding_dim': 300, \n",
    "              'filters': 200, \n",
    "              'kernel_size': 3,\n",
    "              'dropout' : 0.8,\n",
    "              'batch_size': 512,\n",
    "              'epochs': 1000,\n",
    "              'steps_per_epochs': None,\n",
    "              'early_stopping': True,\n",
    "              'vocab_size': None,\n",
    "              'learning_rate' : 0.0005,\n",
    "              'gradient_clip_value' : None,\n",
    "              'gradient_clip_norm' : None,\n",
    "              'validation_split': 0.1,\n",
    "              'missing_word_vectors': 'zero',\n",
    "              'conv_activation': 'relu', \n",
    "              'dense_activation':'relu',\n",
    "              'n_class': 1}"
   ]
  },
  {
   "cell_type": "code",
   "execution_count": null,
   "metadata": {},
   "outputs": [],
   "source": [
    "if hyperparam['early_stopping']:\n",
    "    hyperparam['validation_split'] = max(0.1, hyperparam['validation_split'])"
   ]
  },
  {
   "cell_type": "code",
   "execution_count": null,
   "metadata": {},
   "outputs": [],
   "source": [
    "name = '_'.join(['CNN_Baseline_1_Class_Test', \n",
    "                 str(hyperparam['sequence_len']), \n",
    "                 str(hyperparam['filters']), \n",
    "                 str(hyperparam['kernel_size']), \n",
    "                 str(int(hyperparam['dropout']*100))])"
   ]
  },
  {
   "cell_type": "code",
   "execution_count": null,
   "metadata": {},
   "outputs": [],
   "source": [
    "save_predictions = False\n",
    "save_model = False\n",
    "use_best_checkpoint = True"
   ]
  },
  {
   "cell_type": "code",
   "execution_count": null,
   "metadata": {},
   "outputs": [],
   "source": [
    "try:\n",
    "    word_vec\n",
    "except NameError:\n",
    "    if os.path.exists('./data/GoogleNews-vectors-negative300.bin'):\n",
    "        word_vec = KeyedVectors.load_word2vec_format(fname='./data/GoogleNews-vectors-negative300.bin', binary=True)\n",
    "    elif os.path.exists('./data/GoogleNews-vectors-negative300.bin.gz'):\n",
    "        google_w2v = gzip.open('./data/GoogleNews-vectors-negative300.bin.gz', 'rb')\n",
    "        word_vec = KeyedVectors.load_word2vec_format(fname=google_w2v, binary=True)\n",
    "        del google_w2v\n",
    "    else:\n",
    "        print('Embedings not found')"
   ]
  },
  {
   "cell_type": "code",
   "execution_count": null,
   "metadata": {},
   "outputs": [],
   "source": [
    "tokenizer = Tokenizer(num_words=hyperparam['vocab_size'], filters='!\"#$%&()*+,-./:;<=>?@[\\\\]^_`{|}~\\t\\n\\'')"
   ]
  },
  {
   "cell_type": "code",
   "execution_count": null,
   "metadata": {},
   "outputs": [],
   "source": [
    "train = pd.read_csv('./data/train.csv')"
   ]
  },
  {
   "cell_type": "code",
   "execution_count": null,
   "metadata": {},
   "outputs": [],
   "source": [
    "test = pd.read_csv('./data/test.csv')"
   ]
  },
  {
   "cell_type": "code",
   "execution_count": null,
   "metadata": {},
   "outputs": [],
   "source": [
    "train_text = train['comment_text'].astype('str').values"
   ]
  },
  {
   "cell_type": "code",
   "execution_count": null,
   "metadata": {},
   "outputs": [],
   "source": [
    "test_text = test['comment_text'].astype('str').values"
   ]
  },
  {
   "cell_type": "code",
   "execution_count": null,
   "metadata": {},
   "outputs": [],
   "source": [
    "tokenizer.fit_on_texts(train_text)"
   ]
  },
  {
   "cell_type": "code",
   "execution_count": null,
   "metadata": {},
   "outputs": [],
   "source": [
    "train_seq = tokenizer.texts_to_sequences(train_text)"
   ]
  },
  {
   "cell_type": "code",
   "execution_count": null,
   "metadata": {},
   "outputs": [],
   "source": [
    "test_seq = tokenizer.texts_to_sequences(test_text)"
   ]
  },
  {
   "cell_type": "code",
   "execution_count": null,
   "metadata": {},
   "outputs": [],
   "source": [
    "if not hyperparam['vocab_size']:\n",
    "    hyperparam['vocab_size'] = len(tokenizer.word_index)\n",
    "print('Vocab Size:', hyperparam['vocab_size'])"
   ]
  },
  {
   "cell_type": "code",
   "execution_count": null,
   "metadata": {},
   "outputs": [],
   "source": [
    "if hyperparam['missing_word_vectors']=='normal':\n",
    "    embed_list = []\n",
    "    for word, index in tokenizer.word_index.items():\n",
    "        if index >= hyperparam['vocab_size']: \n",
    "            continue\n",
    "        try:\n",
    "            embed_list.append(word_vec.wv[word])\n",
    "        except KeyError:\n",
    "            pass\n",
    "    a = np.array(embed_list)\n",
    "    embedding_matrix = np.array(np.random.normal(a.mean(), a.std(), (hyperparam['vocab_size'], hyperparam['embedding_dim'])), dtype=np.float32)\n",
    "    del embed_list\n",
    "    del a\n",
    "else:\n",
    "    embedding_matrix = np.zeros((hyperparam['vocab_size'], hyperparam['embedding_dim']), dtype=np.float32)"
   ]
  },
  {
   "cell_type": "code",
   "execution_count": null,
   "metadata": {
    "scrolled": false
   },
   "outputs": [],
   "source": [
    "unknown_count = 0\n",
    "unknown_freq = {}\n",
    "for word, index in tokenizer.word_index.items():\n",
    "    if index >= hyperparam['vocab_size']: \n",
    "            continue\n",
    "    try:\n",
    "        embedding_matrix[index, :] = word_vec.wv[word]\n",
    "    except KeyError:\n",
    "        unknown_freq[word] = tokenizer.word_counts[word]\n",
    "        unknown_count += 1"
   ]
  },
  {
   "cell_type": "code",
   "execution_count": null,
   "metadata": {},
   "outputs": [],
   "source": [
    "print('Unknown words', unknown_count)"
   ]
  },
  {
   "cell_type": "code",
   "execution_count": null,
   "metadata": {},
   "outputs": [],
   "source": [
    "print('Unknown Freq', sum(unknown_freq.values()))"
   ]
  },
  {
   "cell_type": "code",
   "execution_count": null,
   "metadata": {},
   "outputs": [],
   "source": [
    "X_train = pad_sequences(train_seq, maxlen=hyperparam['sequence_len'], truncating='post', padding='post')"
   ]
  },
  {
   "cell_type": "code",
   "execution_count": null,
   "metadata": {},
   "outputs": [],
   "source": [
    "y_train = train[['toxic', 'severe_toxic', 'obscene', 'threat', 'insult', 'identity_hate']].values\n",
    "y_train = y_train[:, 0]"
   ]
  },
  {
   "cell_type": "code",
   "execution_count": null,
   "metadata": {},
   "outputs": [],
   "source": [
    "if not os.path.exists(f'./{name}'):\n",
    "    os.mkdir(f'./{name}')"
   ]
  },
  {
   "cell_type": "code",
   "execution_count": null,
   "metadata": {},
   "outputs": [],
   "source": [
    "with open(f'./{name}/Hyperparameters.csv', 'w') as file:\n",
    "    file.write('{}, {}'.format('Hyperparameter', 'Value'))\n",
    "    for key in hyperparam.keys():\n",
    "        file.write('\\n {}, {}'.format(str(key), str(hyperparam[key])))"
   ]
  },
  {
   "cell_type": "code",
   "execution_count": null,
   "metadata": {},
   "outputs": [],
   "source": [
    "embedding_matrix.shape"
   ]
  },
  {
   "cell_type": "code",
   "execution_count": null,
   "metadata": {},
   "outputs": [],
   "source": [
    "def mini_batch_generator():\n",
    "    global X_train, y_train\n",
    "    while True:\n",
    "        yield (X_train[:hyperparam['batch_size'], :], y_train[:hyperparam['batch_size'], :])\n",
    "        X_train = np.roll(X_train, axis=0, shift=-hyperparam['batch_size'])\n",
    "        y_train = np.roll(y_train, axis=0, shift=-hyperparam['batch_size'])"
   ]
  },
  {
   "cell_type": "code",
   "execution_count": null,
   "metadata": {},
   "outputs": [],
   "source": [
    "def computation_graph():\n",
    "    model  = Sequential()\n",
    "    model.add(Embedding(hyperparam['vocab_size'], hyperparam['embedding_dim'], weights=[embedding_matrix], name='Embedding_Layer'))\n",
    "    model.add(Conv1D(filters=hyperparam['filters'], \n",
    "                     kernel_size=hyperparam['kernel_size'],\n",
    "                     activation = hyperparam['conv_activation'],\n",
    "                     name= '_'.join(['Convolution_1D', str(hyperparam['filters']), str(hyperparam['kernel_size']), str(hyperparam['conv_activation'])])\n",
    "                    ))\n",
    "    model.add(GlobalMaxPool1D(name='Global_Max_Pooling'))\n",
    "    model.add(Dense(units=hyperparam['filters'], name='Dense_'+str(hyperparam['filters'])))\n",
    "    model.add(Dropout(rate=hyperparam['dropout'], name = 'Dropout_' + str(hyperparam['dropout'])))\n",
    "    model.add(Activation(hyperparam['dense_activation'], name='Activation_'+str(hyperparam['dense_activation'])))\n",
    "    model.add(Dense(units=hyperparam['n_class'], activation='sigmoid', name='Dense_'+str(hyperparam['n_class'])+'_Sigmoid'))\n",
    "    return model"
   ]
  },
  {
   "cell_type": "code",
   "execution_count": null,
   "metadata": {},
   "outputs": [],
   "source": [
    "model = computation_graph()"
   ]
  },
  {
   "cell_type": "code",
   "execution_count": null,
   "metadata": {
    "scrolled": true
   },
   "outputs": [],
   "source": [
    "model.summary()"
   ]
  },
  {
   "cell_type": "code",
   "execution_count": null,
   "metadata": {},
   "outputs": [],
   "source": [
    "if hyperparam['gradient_clip_norm'] is None and hyperparam['gradient_clip_value'] is None:\n",
    "    model.compile(loss='binary_crossentropy', \n",
    "                  optimizer=Adam(hyperparam['learning_rate']),\n",
    "                  metrics=['accuracy'])\n",
    "elif hyperparam['gradient_clip_norm'] is None:\n",
    "    model.compile(loss='binary_crossentropy', \n",
    "                  optimizer=Adam(hyperparam['learning_rate'], \n",
    "                  clipvalue=hyperparam['gradient_clip_value']),\n",
    "                  metrics=['accuracy'])\n",
    "elif hyperparam['gradient_clip_value'] is None:\n",
    "    model.compile(loss='binary_crossentropy', \n",
    "                  optimizer=Adam(hyperparam['learning_rate'], \n",
    "                  clipnorm = hyperparam['gradient_clip_norm']),\n",
    "                  metrics=['accuracy'])\n",
    "else:\n",
    "    model.compile(loss='binary_crossentropy', \n",
    "                  optimizer=Adam(hyperparam['learning_rate'], \n",
    "                  clipvalue=hyperparam['gradient_clip_value'],\n",
    "                  clipnorm = hyperparam['gradient_clip_norm']),\n",
    "                  metrics=['accuracy'])"
   ]
  },
  {
   "cell_type": "code",
   "execution_count": null,
   "metadata": {},
   "outputs": [],
   "source": [
    "if hyperparam['validation_split'] or hyperparam['early_stopping']:\n",
    "    X_train, X_val, y_train, y_val = train_test_split(X_train, y_train, test_size=hyperparam['validation_split'], random_state=22)"
   ]
  },
  {
   "cell_type": "code",
   "execution_count": null,
   "metadata": {},
   "outputs": [],
   "source": [
    "if hyperparam['early_stopping']:\n",
    "    callback = [EarlyStopping(verbose=1), ModelCheckpoint(f'./{name}/model_best.h5', save_best_only=True)]\n",
    "    if hyperparam['steps_per_epochs']:\n",
    "        callback = [EarlyStopping(verbose=1, patience=5), ModelCheckpoint(f'./{name}/model_best.h5', save_best_only=True)]\n",
    "    validation_data = (X_val, y_val)\n",
    "elif hyperparam['validation_split']:\n",
    "    callback = [ModelCheckpoint(f'./{name}/model_best.h5', save_best_only=True)]\n",
    "    validation_data = (X_val, y_val)\n",
    "else:\n",
    "    callback = None\n",
    "    validation_data = None                                               "
   ]
  },
  {
   "cell_type": "code",
   "execution_count": null,
   "metadata": {
    "scrolled": true
   },
   "outputs": [],
   "source": [
    "if hyperparam['steps_per_epochs']:\n",
    "        history = model.fit_generator(generator=mini_batch_generator(),\n",
    "                              epochs=hyperparam['epochs'], \n",
    "                              callbacks=callback,\n",
    "                              validation_data = validation_data, \n",
    "                              steps_per_epoch=hyperparam['steps_per_epochs'])\n",
    "else:\n",
    "        history = model.fit(x=X_train, y=y_train,\n",
    "                          validation_data = validation_data,\n",
    "                          epochs=hyperparam['epochs'],\n",
    "                          batch_size=hyperparam['batch_size'], \n",
    "                          shuffle=True, \n",
    "                          callbacks=callback)"
   ]
  },
  {
   "cell_type": "code",
   "execution_count": null,
   "metadata": {},
   "outputs": [],
   "source": [
    "if save_predictions:\n",
    "    X_test = pad_sequences(test_seq, maxlen=hyperparam['sequence_len'], truncating='post', padding='post')\n",
    "    y_pred = model.predict(X_test, batch_size=hyperparam['batch_size'])\n",
    "    submission = pd.DataFrame({'id': test['id'], 'toxic': y_pred[:, 0], 'severe_toxic': y_pred[:, 1], 'obscene': y_pred[:, 2], \\\n",
    "                          'threat': y_pred[:, 3], 'insult': y_pred[:, 4], 'identity_hate': y_pred[:, 5]})\n",
    "    submission.to_csv(f'./{name}/submission.csv', index=False)"
   ]
  },
  {
   "cell_type": "code",
   "execution_count": null,
   "metadata": {},
   "outputs": [],
   "source": [
    "if use_best_checkpoint:\n",
    "    model = load_model(f'./{name}/model_best.h5')\n",
    "    X_test = pad_sequences(test_seq, maxlen=hyperparam['sequence_len'], truncating='post', padding='post')\n",
    "    y_pred = model.predict(X_test, batch_size=hyperparam['batch_size'])\n",
    "    submission = pd.DataFrame({'id': test['id'], 'toxic': y_pred[:, 0], 'severe_toxic': y_pred[:, 1], 'obscene': y_pred[:, 2], \\\n",
    "                          'threat': y_pred[:, 3], 'insult': y_pred[:, 4], 'identity_hate': y_pred[:, 5]})\n",
    "    submission.to_csv(f'./{name}/submission_checkpoint.csv', index=False)"
   ]
  },
  {
   "cell_type": "code",
   "execution_count": null,
   "metadata": {},
   "outputs": [],
   "source": [
    "if save_model:\n",
    "    model.save(f'./{name}/model_last.h5')\n",
    "else:\n",
    "    try:\n",
    "        os.remove(f'./{name}/model_best.h5')\n",
    "    except FileNotFoundError:\n",
    "        pass"
   ]
  }
 ],
 "metadata": {
  "kernelspec": {
   "display_name": "Python 3",
   "language": "python",
   "name": "python3"
  },
  "language_info": {
   "codemirror_mode": {
    "name": "ipython",
    "version": 3
   },
   "file_extension": ".py",
   "mimetype": "text/x-python",
   "name": "python",
   "nbconvert_exporter": "python",
   "pygments_lexer": "ipython3",
   "version": "3.6.6"
  }
 },
 "nbformat": 4,
 "nbformat_minor": 2
}
