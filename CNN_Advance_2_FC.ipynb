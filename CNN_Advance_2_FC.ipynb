{
 "cells": [
  {
   "cell_type": "code",
   "execution_count": 1,
   "metadata": {
    "collapsed": true
   },
   "outputs": [],
   "source": [
    "import numpy as np\n",
    "import pandas as pd"
   ]
  },
  {
   "cell_type": "code",
   "execution_count": 2,
   "metadata": {
    "collapsed": true
   },
   "outputs": [],
   "source": [
    "import gzip\n",
    "import os\n",
    "import gc"
   ]
  },
  {
   "cell_type": "code",
   "execution_count": 3,
   "metadata": {},
   "outputs": [
    {
     "name": "stderr",
     "output_type": "stream",
     "text": [
      "Using TensorFlow backend.\n"
     ]
    }
   ],
   "source": [
    "from keras.models import Sequential, load_model\n",
    "from keras.layers import Conv1D, GlobalMaxPool1D, Dense, Dropout, Activation, Embedding\n",
    "from keras.preprocessing.sequence import pad_sequences\n",
    "from keras.preprocessing.text import Tokenizer\n",
    "from keras.optimizers import Adam\n",
    "from keras.callbacks import EarlyStopping, ModelCheckpoint"
   ]
  },
  {
   "cell_type": "code",
   "execution_count": 4,
   "metadata": {
    "collapsed": true
   },
   "outputs": [],
   "source": [
    "from nltk.tokenize import word_tokenize\n",
    "from nltk.corpus import stopwords\n",
    "from sklearn.model_selection import train_test_split"
   ]
  },
  {
   "cell_type": "code",
   "execution_count": 5,
   "metadata": {},
   "outputs": [
    {
     "name": "stderr",
     "output_type": "stream",
     "text": [
      "C:\\Users\\k\\Anaconda3\\lib\\site-packages\\gensim\\utils.py:860: UserWarning: detected Windows; aliasing chunkize to chunkize_serial\n",
      "  warnings.warn(\"detected Windows; aliasing chunkize to chunkize_serial\")\n"
     ]
    }
   ],
   "source": [
    "from gensim.models import Word2Vec, KeyedVectors"
   ]
  },
  {
   "cell_type": "code",
   "execution_count": 6,
   "metadata": {
    "collapsed": true
   },
   "outputs": [],
   "source": [
    "hyperparam = {'sequence_len': 100,\n",
    "              'embedding_dim': 300, \n",
    "              'filters': 200, \n",
    "              'kernel_size': 3,\n",
    "              'dropout' : 0.5,\n",
    "              'dense_units': 100,\n",
    "              'batch_size': 512,\n",
    "              'epochs': 1000,\n",
    "              'steps_per_epochs': None,\n",
    "              'early_stopping': True,\n",
    "              'vocab_size': None,\n",
    "              'learning_rate' : 0.0005,\n",
    "              'gradient_clip_value' : None,\n",
    "              'gradient_clip_norm' : None,\n",
    "              'validation_split': 0.1,\n",
    "              'missing_word_vectors': 'normal',\n",
    "              'conv_activation': 'relu', \n",
    "              'dense_activation':'relu',\n",
    "              'n_class': 6}"
   ]
  },
  {
   "cell_type": "code",
   "execution_count": 7,
   "metadata": {
    "collapsed": true
   },
   "outputs": [],
   "source": [
    "if hyperparam['early_stopping']:\n",
    "    hyperparam['validation_split'] = max(0.1, hyperparam['validation_split'])"
   ]
  },
  {
   "cell_type": "code",
   "execution_count": 8,
   "metadata": {
    "collapsed": true
   },
   "outputs": [],
   "source": [
    "name = '_'.join(['CNN_2_FC_Missing_relu', \n",
    "                 str(hyperparam['sequence_len']), \n",
    "                 str(hyperparam['filters']), \n",
    "                 str(hyperparam['kernel_size']), \n",
    "                 str(int(hyperparam['dropout']*100))])"
   ]
  },
  {
   "cell_type": "code",
   "execution_count": 9,
   "metadata": {
    "collapsed": true
   },
   "outputs": [],
   "source": [
    "save_predictions = True\n",
    "save_model = False\n",
    "use_best_checkpoint = True"
   ]
  },
  {
   "cell_type": "code",
   "execution_count": 10,
   "metadata": {
    "collapsed": true
   },
   "outputs": [],
   "source": [
    "try:\n",
    "    word_vec\n",
    "except NameError:\n",
    "    if os.path.exists('./data/GoogleNews-vectors-negative300.bin'):\n",
    "        word_vec = KeyedVectors.load_word2vec_format(fname='./data/GoogleNews-vectors-negative300.bin', binary=True)\n",
    "    elif os.path.exists('./data/GoogleNews-vectors-negative300.bin.gz'):\n",
    "        google_w2v = gzip.open('./data/GoogleNews-vectors-negative300.bin.gz', 'rb')\n",
    "        word_vec = KeyedVectors.load_word2vec_format(fname=google_w2v, binary=True)\n",
    "        del google_w2v\n",
    "    else:\n",
    "        print('Embedings not found')"
   ]
  },
  {
   "cell_type": "code",
   "execution_count": 11,
   "metadata": {
    "collapsed": true
   },
   "outputs": [],
   "source": [
    "tokenizer = Tokenizer(num_words=hyperparam['vocab_size'], filters='!\"#$%&()*+,-./:;<=>?@[\\\\]^_`{|}~\\t\\n\\'')"
   ]
  },
  {
   "cell_type": "code",
   "execution_count": 12,
   "metadata": {
    "collapsed": true
   },
   "outputs": [],
   "source": [
    "train = pd.read_csv('./data/train.csv')"
   ]
  },
  {
   "cell_type": "code",
   "execution_count": 13,
   "metadata": {
    "collapsed": true
   },
   "outputs": [],
   "source": [
    "test = pd.read_csv('./data/test.csv')"
   ]
  },
  {
   "cell_type": "code",
   "execution_count": 14,
   "metadata": {
    "collapsed": true
   },
   "outputs": [],
   "source": [
    "train_text = train['comment_text'].astype('str').values"
   ]
  },
  {
   "cell_type": "code",
   "execution_count": 15,
   "metadata": {
    "collapsed": true
   },
   "outputs": [],
   "source": [
    "test_text = test['comment_text'].astype('str').values"
   ]
  },
  {
   "cell_type": "code",
   "execution_count": 16,
   "metadata": {
    "collapsed": true
   },
   "outputs": [],
   "source": [
    "tokenizer.fit_on_texts(train_text)"
   ]
  },
  {
   "cell_type": "code",
   "execution_count": 17,
   "metadata": {
    "collapsed": true
   },
   "outputs": [],
   "source": [
    "train_seq = tokenizer.texts_to_sequences(train_text)"
   ]
  },
  {
   "cell_type": "code",
   "execution_count": 18,
   "metadata": {
    "collapsed": true
   },
   "outputs": [],
   "source": [
    "test_seq = tokenizer.texts_to_sequences(test_text)"
   ]
  },
  {
   "cell_type": "code",
   "execution_count": 19,
   "metadata": {},
   "outputs": [
    {
     "name": "stdout",
     "output_type": "stream",
     "text": [
      "Vocab Size: 193264\n"
     ]
    }
   ],
   "source": [
    "if not hyperparam['vocab_size']:\n",
    "    hyperparam['vocab_size'] = len(tokenizer.word_index)\n",
    "print('Vocab Size:', hyperparam['vocab_size'])"
   ]
  },
  {
   "cell_type": "code",
   "execution_count": 20,
   "metadata": {
    "collapsed": true
   },
   "outputs": [],
   "source": [
    "if hyperparam['missing_word_vectors']=='normal':\n",
    "    embed_list = []\n",
    "    for word, index in tokenizer.word_index.items():\n",
    "        if index >= hyperparam['vocab_size']: \n",
    "            continue\n",
    "        try:\n",
    "            embed_list.append(word_vec.wv[word])\n",
    "        except KeyError:\n",
    "            pass\n",
    "    a = np.array(embed_list)\n",
    "    embedding_matrix = np.array(np.random.normal(a.mean(), a.std(), (hyperparam['vocab_size'], hyperparam['embedding_dim'])), dtype=np.float32)\n",
    "    del embed_list\n",
    "    del a\n",
    "else:\n",
    "    embedding_matrix = np.zeros((hyperparam['vocab_size'], hyperparam['embedding_dim']), dtype=np.float32)"
   ]
  },
  {
   "cell_type": "code",
   "execution_count": 21,
   "metadata": {
    "collapsed": true,
    "scrolled": false
   },
   "outputs": [],
   "source": [
    "unknown_count = 0\n",
    "unknown_freq = {}\n",
    "for word, index in tokenizer.word_index.items():\n",
    "    if index >= hyperparam['vocab_size']: \n",
    "            continue\n",
    "    try:\n",
    "        embedding_matrix[index, :] = word_vec.wv[word]\n",
    "    except KeyError:\n",
    "        unknown_freq[word] = tokenizer.word_counts[word]\n",
    "        unknown_count += 1"
   ]
  },
  {
   "cell_type": "code",
   "execution_count": 22,
   "metadata": {},
   "outputs": [
    {
     "name": "stdout",
     "output_type": "stream",
     "text": [
      "Unknown words 127113\n"
     ]
    }
   ],
   "source": [
    "print('Unknown words', unknown_count)"
   ]
  },
  {
   "cell_type": "code",
   "execution_count": 23,
   "metadata": {},
   "outputs": [
    {
     "name": "stdout",
     "output_type": "stream",
     "text": [
      "Unknown Freq 1450599\n"
     ]
    }
   ],
   "source": [
    "print('Unknown Freq', sum(unknown_freq.values()))"
   ]
  },
  {
   "cell_type": "code",
   "execution_count": 24,
   "metadata": {
    "collapsed": true
   },
   "outputs": [],
   "source": [
    "X_train = pad_sequences(train_seq, maxlen=hyperparam['sequence_len'], truncating='post', padding='post')"
   ]
  },
  {
   "cell_type": "code",
   "execution_count": 25,
   "metadata": {
    "collapsed": true
   },
   "outputs": [],
   "source": [
    "y_train = train[['toxic', 'severe_toxic', 'obscene', 'threat', 'insult', 'identity_hate']].values"
   ]
  },
  {
   "cell_type": "code",
   "execution_count": 26,
   "metadata": {
    "collapsed": true
   },
   "outputs": [],
   "source": [
    "if hyperparam['validation_split'] or hyperparam['early_stopping']:\n",
    "    X_train, X_val, y_train, y_val = train_test_split(X_train, y_train, test_size=hyperparam['validation_split'], random_state=22)"
   ]
  },
  {
   "cell_type": "code",
   "execution_count": 27,
   "metadata": {
    "collapsed": true
   },
   "outputs": [],
   "source": [
    "if not os.path.exists(f'./{name}'):\n",
    "    os.mkdir(f'./{name}')"
   ]
  },
  {
   "cell_type": "code",
   "execution_count": 28,
   "metadata": {
    "collapsed": true
   },
   "outputs": [],
   "source": [
    "with open(f'./{name}/Hyperparameters.csv', 'w') as file:\n",
    "    file.write('{}, {}'.format('Hyperparameter', 'Value'))\n",
    "    for key in hyperparam.keys():\n",
    "        file.write('\\n {}, {}'.format(str(key), str(hyperparam[key])))"
   ]
  },
  {
   "cell_type": "code",
   "execution_count": 29,
   "metadata": {},
   "outputs": [
    {
     "data": {
      "text/plain": [
       "(193264, 300)"
      ]
     },
     "execution_count": 29,
     "metadata": {},
     "output_type": "execute_result"
    }
   ],
   "source": [
    "embedding_matrix.shape"
   ]
  },
  {
   "cell_type": "code",
   "execution_count": 30,
   "metadata": {
    "collapsed": true
   },
   "outputs": [],
   "source": [
    "def mini_batch_generator():\n",
    "    global X_train, y_train\n",
    "    while True:\n",
    "        yield (X_train[:hyperparam['batch_size'], :], y_train[:hyperparam['batch_size'], :])\n",
    "        X_train = np.roll(X_train, axis=0, shift=-hyperparam['batch_size'])\n",
    "        y_train = np.roll(y_train, axis=0, shift=-hyperparam['batch_size'])"
   ]
  },
  {
   "cell_type": "code",
   "execution_count": 31,
   "metadata": {
    "collapsed": true
   },
   "outputs": [],
   "source": [
    "def computation_graph():\n",
    "    model  = Sequential()\n",
    "    model.add(Embedding(hyperparam['vocab_size'], hyperparam['embedding_dim'], weights=[embedding_matrix], name='Embedding_Layer'))\n",
    "    model.add(Conv1D(filters=hyperparam['filters'], \n",
    "                     kernel_size=hyperparam['kernel_size'],\n",
    "                     activation = hyperparam['conv_activation'],\n",
    "                     name= '_'.join(['Convolution_1D', str(hyperparam['filters']), str(hyperparam['kernel_size']), str(hyperparam['conv_activation'])])\n",
    "                    ))\n",
    "    model.add(GlobalMaxPool1D(name='Global_Max_Pooling'))\n",
    "    model.add(Dense(units=hyperparam['filters'], name='Dense_'+str(hyperparam['filters'])))\n",
    "    model.add(Dropout(rate=hyperparam['dropout'], name = 'Dropout_' + str(hyperparam['dropout'])))\n",
    "#     model.add(Activation(hyperparam['dense_activation'], name='Activation_'+str(hyperparam['dense_activation'])))\n",
    "    model.add(Dense(units=hyperparam['dense_units'], name='Dense_'+str(hyperparam['dense_units'])))\n",
    "    model.add(Dropout(rate=hyperparam['dropout'], name = 'Dropout2_' + str(hyperparam['dropout'])))\n",
    "    model.add(Activation(hyperparam['dense_activation'], name='Activation2_'+str(hyperparam['dense_activation'])))\n",
    "    model.add(Dense(units=hyperparam['n_class'], activation='sigmoid', name='Dense_'+str(hyperparam['n_class'])+'_Sigmoid'))\n",
    "    return model"
   ]
  },
  {
   "cell_type": "code",
   "execution_count": 32,
   "metadata": {
    "collapsed": true
   },
   "outputs": [],
   "source": [
    "model = computation_graph()"
   ]
  },
  {
   "cell_type": "code",
   "execution_count": 33,
   "metadata": {
    "scrolled": true
   },
   "outputs": [
    {
     "name": "stdout",
     "output_type": "stream",
     "text": [
      "_________________________________________________________________\n",
      "Layer (type)                 Output Shape              Param #   \n",
      "=================================================================\n",
      "Embedding_Layer (Embedding)  (None, None, 300)         57979200  \n",
      "_________________________________________________________________\n",
      "Convolution_1D_200_3_relu (C (None, None, 200)         180200    \n",
      "_________________________________________________________________\n",
      "Global_Max_Pooling (GlobalMa (None, 200)               0         \n",
      "_________________________________________________________________\n",
      "Dense_200 (Dense)            (None, 200)               40200     \n",
      "_________________________________________________________________\n",
      "Dropout_0.75 (Dropout)       (None, 200)               0         \n",
      "_________________________________________________________________\n",
      "Dense_100 (Dense)            (None, 100)               20100     \n",
      "_________________________________________________________________\n",
      "Dropout2_0.75 (Dropout)      (None, 100)               0         \n",
      "_________________________________________________________________\n",
      "Activation2_relu (Activation (None, 100)               0         \n",
      "_________________________________________________________________\n",
      "Dense_6_Sigmoid (Dense)      (None, 6)                 606       \n",
      "=================================================================\n",
      "Total params: 58,220,306\n",
      "Trainable params: 58,220,306\n",
      "Non-trainable params: 0\n",
      "_________________________________________________________________\n"
     ]
    }
   ],
   "source": [
    "model.summary()"
   ]
  },
  {
   "cell_type": "code",
   "execution_count": 34,
   "metadata": {
    "collapsed": true
   },
   "outputs": [],
   "source": [
    "if hyperparam['gradient_clip_norm'] is None and hyperparam['gradient_clip_value'] is None:\n",
    "    model.compile(loss='binary_crossentropy', \n",
    "                  optimizer=Adam(hyperparam['learning_rate']),\n",
    "                  metrics=['accuracy'])\n",
    "elif hyperparam['gradient_clip_norm'] is None:\n",
    "    model.compile(loss='binary_crossentropy', \n",
    "                  optimizer=Adam(hyperparam['learning_rate'], \n",
    "                  clipvalue=hyperparam['gradient_clip_value']),\n",
    "                  metrics=['accuracy'])\n",
    "elif hyperparam['gradient_clip_value'] is None:\n",
    "    model.compile(loss='binary_crossentropy', \n",
    "                  optimizer=Adam(hyperparam['learning_rate'], \n",
    "                  clipnorm = hyperparam['gradient_clip_norm']),\n",
    "                  metrics=['accuracy'])\n",
    "else:\n",
    "    model.compile(loss='binary_crossentropy', \n",
    "                  optimizer=Adam(hyperparam['learning_rate'], \n",
    "                  clipvalue=hyperparam['gradient_clip_value'],\n",
    "                  clipnorm = hyperparam['gradient_clip_norm']),\n",
    "                  metrics=['accuracy'])"
   ]
  },
  {
   "cell_type": "code",
   "execution_count": 35,
   "metadata": {
    "collapsed": true
   },
   "outputs": [],
   "source": [
    "if hyperparam['early_stopping']:\n",
    "    callback = [EarlyStopping(verbose=1, patience=3), ModelCheckpoint(f'./{name}/model_best.h5', save_best_only=True)]\n",
    "    if hyperparam['steps_per_epochs']:\n",
    "        callback = [EarlyStopping(verbose=1, patience=5), ModelCheckpoint(f'./{name}/model_best.h5', save_best_only=True)]\n",
    "    validation_data = (X_val, y_val)\n",
    "elif hyperparam['validation_split']:\n",
    "    callback = [ModelCheckpoint(f'./{name}/model_best.h5', save_best_only=True)]\n",
    "    validation_data = (X_val, y_val)\n",
    "else:\n",
    "    callback = None\n",
    "    validation_data = None                                               "
   ]
  },
  {
   "cell_type": "code",
   "execution_count": 36,
   "metadata": {
    "scrolled": true
   },
   "outputs": [
    {
     "name": "stdout",
     "output_type": "stream",
     "text": [
      "Train on 143613 samples, validate on 15958 samples\n",
      "Epoch 1/1000\n",
      "143613/143613 [==============================] - 25s - loss: 0.1583 - acc: 0.9451 - val_loss: 0.0574 - val_acc: 0.9800\n",
      "Epoch 2/1000\n",
      "143613/143613 [==============================] - 23s - loss: 0.0663 - acc: 0.9775 - val_loss: 0.0523 - val_acc: 0.9805\n",
      "Epoch 3/1000\n",
      "143613/143613 [==============================] - 21s - loss: 0.0546 - acc: 0.9808 - val_loss: 0.0526 - val_acc: 0.9811\n",
      "Epoch 4/1000\n",
      "143613/143613 [==============================] - 21s - loss: 0.0467 - acc: 0.9830 - val_loss: 0.0564 - val_acc: 0.9810\n",
      "Epoch 5/1000\n",
      "143613/143613 [==============================] - 22s - loss: 0.0412 - acc: 0.9844 - val_loss: 0.0513 - val_acc: 0.9814\n",
      "Epoch 6/1000\n",
      "143613/143613 [==============================] - 22s - loss: 0.0365 - acc: 0.9860 - val_loss: 0.0550 - val_acc: 0.9815\n",
      "Epoch 7/1000\n",
      "143613/143613 [==============================] - 22s - loss: 0.0333 - acc: 0.9870 - val_loss: 0.0575 - val_acc: 0.9816\n",
      "Epoch 8/1000\n",
      "143613/143613 [==============================] - 21s - loss: 0.0311 - acc: 0.9879 - val_loss: 0.0572 - val_acc: 0.9810\n",
      "Epoch 9/1000\n",
      "143613/143613 [==============================] - 22s - loss: 0.0287 - acc: 0.9885 - val_loss: 0.0606 - val_acc: 0.9814\n",
      "Epoch 00008: early stopping\n"
     ]
    }
   ],
   "source": [
    "if hyperparam['steps_per_epochs']:\n",
    "        history = model.fit_generator(generator=mini_batch_generator(),\n",
    "                              epochs=hyperparam['epochs'], \n",
    "                              callbacks=callback,\n",
    "                              validation_data = validation_data, \n",
    "                              steps_per_epoch=hyperparam['steps_per_epochs'])\n",
    "else:\n",
    "        history = model.fit(x=X_train, y=y_train,\n",
    "                          validation_data = validation_data,\n",
    "                          epochs=hyperparam['epochs'],\n",
    "                          batch_size=hyperparam['batch_size'], \n",
    "                          shuffle=True, \n",
    "                          callbacks=callback)"
   ]
  },
  {
   "cell_type": "code",
   "execution_count": 37,
   "metadata": {
    "collapsed": true
   },
   "outputs": [],
   "source": [
    "if save_predictions:\n",
    "    X_test = pad_sequences(test_seq, maxlen=hyperparam['sequence_len'], truncating='post', padding='post')\n",
    "    y_pred = model.predict(X_test, batch_size=hyperparam['batch_size'])\n",
    "    submission = pd.DataFrame({'id': test['id'], 'toxic': y_pred[:, 0], 'severe_toxic': y_pred[:, 1], 'obscene': y_pred[:, 2], \\\n",
    "                          'threat': y_pred[:, 3], 'insult': y_pred[:, 4], 'identity_hate': y_pred[:, 5]})\n",
    "    submission.to_csv(f'./{name}/submission.csv', index=False)"
   ]
  },
  {
   "cell_type": "code",
   "execution_count": 38,
   "metadata": {
    "collapsed": true
   },
   "outputs": [],
   "source": [
    "if use_best_checkpoint:\n",
    "    model = load_model(f'./{name}/model_best.h5')\n",
    "    X_test = pad_sequences(test_seq, maxlen=hyperparam['sequence_len'], truncating='post', padding='post')\n",
    "    y_pred = model.predict(X_test, batch_size=hyperparam['batch_size'])\n",
    "    submission = pd.DataFrame({'id': test['id'], 'toxic': y_pred[:, 0], 'severe_toxic': y_pred[:, 1], 'obscene': y_pred[:, 2], \\\n",
    "                          'threat': y_pred[:, 3], 'insult': y_pred[:, 4], 'identity_hate': y_pred[:, 5]})\n",
    "    submission.to_csv(f'./{name}/submission_checkpoint.csv', index=False)"
   ]
  },
  {
   "cell_type": "code",
   "execution_count": 39,
   "metadata": {
    "collapsed": true
   },
   "outputs": [],
   "source": [
    "if save_model:\n",
    "    model.save(f'./{name}/model_last.h5')\n",
    "else:\n",
    "    try:\n",
    "        os.remove(f'./{name}/model_best.h5')\n",
    "    except FileNotFoundError:\n",
    "        pass"
   ]
  },
  {
   "cell_type": "code",
   "execution_count": 40,
   "metadata": {
    "collapsed": true
   },
   "outputs": [],
   "source": [
    "#, float_format='%.15f'"
   ]
  },
  {
   "cell_type": "code",
   "execution_count": 41,
   "metadata": {
    "collapsed": true
   },
   "outputs": [],
   "source": [
    "# def embed_init(shape, dtype=None):\n",
    "#     return embedding_matrix"
   ]
  },
  {
   "cell_type": "code",
   "execution_count": 42,
   "metadata": {
    "collapsed": true
   },
   "outputs": [],
   "source": [
    "# class CustomInitializer:\n",
    "#     def __call__(self, shape, dtype=None):\n",
    "#         return embed_init(shape, dtype=dtype)\n",
    "# , custom_objects={'embed_init': CustomInitializer}"
   ]
  }
 ],
 "metadata": {
  "kernelspec": {
   "display_name": "Python 3",
   "language": "python",
   "name": "python3"
  },
  "language_info": {
   "codemirror_mode": {
    "name": "ipython",
    "version": 3
   },
   "file_extension": ".py",
   "mimetype": "text/x-python",
   "name": "python",
   "nbconvert_exporter": "python",
   "pygments_lexer": "ipython3",
   "version": "3.6.2"
  }
 },
 "nbformat": 4,
 "nbformat_minor": 2
}
